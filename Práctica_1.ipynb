{
  "cells": [
    {
      "cell_type": "markdown",
      "metadata": {
        "id": "view-in-github",
        "colab_type": "text"
      },
      "source": [
        "<a href=\"https://colab.research.google.com/github/Alessa2005/Practicas-Programacion/blob/main/Pr%C3%A1ctica_1.ipynb\" target=\"_parent\"><img src=\"https://colab.research.google.com/assets/colab-badge.svg\" alt=\"Open In Colab\"/></a>"
      ]
    },
    {
      "cell_type": "code",
      "source": [
        "def manejoPila(pila, jerarquia, operador, NPI):\n",
        "    # Mientras haya operadores en la pila y el elemento de la parte superior de la pila\n",
        "    #se encuentre en nuestro diccionario \"jerarquía\", si ese elemento es de mayor\n",
        "    #o igual precedencia que el operador actual entonces lo va a agregar a la cadena NPI\n",
        "    #y lo quita de la pila\n",
        "    while pila and pila[-1] in jerarquia and jerarquia[pila[-1]] >= jerarquia[operador]:\n",
        "        NPI += pila.pop()\n",
        "    # Mientras haya operadores en la pila y el elemento de la parte superior de la pila\n",
        "    #se encuentre en nuestro diccionario \"jerarquía\", si ese elemento es de mayor\n",
        "    #o igual precedencia que el operador actual entonces lo va a agregar a la cadena NPI\n",
        "    #y lo quita de la pila\n",
        "\n",
        "NPI = \"\"\n",
        "cadena = \"3 * ( 1 + 3 ) ** 2\"\n",
        "jerarquía ={\"+\":1, \"-\":1, \"*\":2, \"/\":2, \"**\":3, \"(\":0, \")\":0}\n",
        "pila = []\n",
        "i = 0\n",
        "\n",
        "#Para que el while sirva contamos los elementos de la cadena y lo comparamos con i, en caso de que eso se vuelva false\n",
        "#el programa corta\n",
        "while i < len(cadena):\n",
        "#accedemos al primer elemento de nuestra cadena para poder trabajar sobre el\n",
        "    elemento = cadena[i]\n",
        "    #si el elemento al que accedimos es un digito, el if ejecuta la instrucción\n",
        "    if elemento.isdigit():\n",
        "      #la instrucción es que el elemento sobre el que se está trabajando se va\n",
        "      #agregar a nuestra cadena vacia llamada \"NPI\"\n",
        "      NPI += elemento\n",
        "    #si el if es false (i.e el elemento trabajado no es digíto) pasa al elif,\n",
        "    #esta instrucción dice que si el elemento trabajado está en el diccionario\n",
        "    #de \"jerarquía\", i.e. que el elemento es un operador, entonces ejecuta las instrucciones\n",
        "    elif elemento in jerarquía:\n",
        "      #si el elif es true entonces el elemento pasa al if y ve si el elemento es\n",
        "      #un paréntesis izquierdo, si es true entonces ejecuta las instrucciones.\n",
        "      #Éste if nos servirá para ver si tenemos operaciones dentro de paréntesis\n",
        "      #y que se ejecuten antes que lo demás\n",
        "      if elemento == \"(\":\n",
        "            #esta instrucción nos dice que como es paréntesis lo agrega a la pila\n",
        "            pila.append(elemento)\n",
        "      #si el if anterior no se cumple pasa al elif y verifica que el elemento\n",
        "      #sea un paréntesis derecho, si es true, pasa al bucle while\n",
        "      elif elemento == \")\":\n",
        "        #Se fija que la pila no esté vacía y que el elemento superior de la pila\n",
        "        #sea distinto de un paréntesis izquierdo\n",
        "         while pila and pila[-1] != \"(\":\n",
        "            #mientras que la condición se cumpla, irá desapilando los operadores\n",
        "            #que se tienen en la pila y los irá agregando a la cadena\n",
        "            #(notemos que aun no hemos eliminado el paréntesis\n",
        "            #izquierdo)(también observemos que si no es paréntesis derecho ent.\n",
        "            #es un operador, esto nos va ayudara a que ejecutemos la operación dentro\n",
        "            #del paréntesis)\n",
        "            NPI += pila.pop() +\" \"\n",
        "         #si el bucle while termina entonces elimina el paréntesis izquierdo\n",
        "         #esto nos garantiza la jerarquía\n",
        "         pila.pop()\n",
        "      #si el elemento no es parentesis izquierdo ni derecho, ni un número entonces\n",
        "      #solo le queda ser una operador y se ejecuta el else\n",
        "      else:\n",
        "        #primero tenemos un caso especial que es la exponenciación, en este caso\n",
        "        #lo filtraremos primero con un if, lo que nos dice que si el elemento es \"*\"\n",
        "        #y el siguiente elemnto también lo es entonces lo vamos a denotar como \"**\"\n",
        "         if elemento == \"*\" and cadena[i + 1] == \"*\":\n",
        "          operador = \"**\"\n",
        "          #este i += 1 va a saltar el asterisco pues ya sabemos que es \"**\"\"\n",
        "          i += 1\n",
        "         #Si no es exponenciación entonces solo le queda ser cualquiera de\n",
        "         #los otros operadores llamados \"elemento\"\n",
        "         else:\n",
        "          operador = elemento\n",
        "         #aquí llamamos a nuestra función manejoPila\n",
        "         manejoPila(pila, jerarquía, operador, NPI)\n",
        "         #aquí agregamos nuestro operador actual a la pila (en la función se quitó\n",
        "         #el operador que estaba en la pila y lo agrega a la cadena)\n",
        "         pila.append(operador)\n",
        "    #Pasa al siguiente elemento de la cadena establecida\n",
        "    i += 1\n",
        "#este while funciona si aun tenemos elementos en la pila y lo que hará será vaciar\n",
        "#la pila y los elementos los agregará a la cadena NPI\n",
        "while pila:\n",
        "  NPI += pila.pop() + \" \"\n",
        "\n",
        "print(\"Cadena final en Notación Polaca Inversa(NPI):\", NPI)\n",
        "print(\"Pila:\", pila)\n",
        "print(\"integrantes: Robles Gomez Alessandra, Solís Rodríguez José Ramón, Cortes Carlos\")\n"
      ],
      "metadata": {
        "colab": {
          "base_uri": "https://localhost:8080/"
        },
        "id": "0uxA8aZo4H62",
        "outputId": "5acdc944-573c-4c15-bec7-9a265b6ba11b"
      },
      "execution_count": 38,
      "outputs": [
        {
          "output_type": "stream",
          "name": "stdout",
          "text": [
            "Cadena final en Notación Polaca Inversa(NPI): 313+ 2** * \n",
            "Pila: []\n",
            "integrantes: Robles Gomez Alessandra, Solís Rodríguez José Ramón, Cortes Carlos\n"
          ]
        }
      ]
    }
  ],
  "metadata": {
    "colab": {
      "provenance": [],
      "authorship_tag": "ABX9TyN7SR2WyEsYPn4LyvsewS/5",
      "include_colab_link": true
    },
    "kernelspec": {
      "display_name": "Python 3",
      "name": "python3"
    },
    "language_info": {
      "name": "python"
    }
  },
  "nbformat": 4,
  "nbformat_minor": 0
}