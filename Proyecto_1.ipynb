{
  "nbformat": 4,
  "nbformat_minor": 0,
  "metadata": {
    "colab": {
      "provenance": [],
      "authorship_tag": "ABX9TyOrMLIRsJ4Lhg4RiatJWpQJ",
      "include_colab_link": true
    },
    "kernelspec": {
      "name": "python3",
      "display_name": "Python 3"
    },
    "language_info": {
      "name": "python"
    }
  },
  "cells": [
    {
      "cell_type": "markdown",
      "metadata": {
        "id": "view-in-github",
        "colab_type": "text"
      },
      "source": [
        "<a href=\"https://colab.research.google.com/github/Alessa2005/Practicas-Programacion/blob/main/Proyecto_1.ipynb\" target=\"_parent\"><img src=\"https://colab.research.google.com/assets/colab-badge.svg\" alt=\"Open In Colab\"/></a>"
      ]
    },
    {
      "cell_type": "code",
      "execution_count": null,
      "metadata": {
        "id": "qkj_Z3mT8Jg2"
      },
      "outputs": [],
      "source": [
        "import numpy as np\n",
        "\n",
        "class Grafica():\n",
        "    \"\"\"Representa una gráfica con una matriz de adyacencia.\"\"\"\n",
        "\n",
        "    def __init__(self, nodos, arcos):\n",
        "        self.nodos = nodos\n",
        "        self.matriz = np.zeros((len(nodos), len(nodos)))\n",
        "        for x in arcos:\n",
        "            self.matriz[x[0], x[1]] = 1\n",
        "\n",
        "    def __str__(self):\n",
        "        return str(self.matriz)\n",
        "\n",
        "    def agregar_arco(self, tupla):\n",
        "        \"\"\"Agrega un arco de `tupla[0]` a `tupla[1]`.\"\"\"\n",
        "        self.matriz[tupla[0], tupla[1]] = 1\n",
        "\n",
        "    def quitar_arco(self, tupla):\n",
        "        \"\"\"Quita un arco de `tupla[0]` a `tupla[1]`.\"\"\"\n",
        "        self.matriz[tupla[0], tupla[1]] = 0\n",
        "\n",
        "    def agregar_nodo(self):\n",
        "        \"\"\"Agrega un nuevo nodo a la gráfica.\"\"\"\n",
        "        vertical = np.zeros((len(self.matriz), 1))\n",
        "        horizontal = np.zeros((1, len(self.matriz) + 1))\n",
        "        self.matriz = np.vstack(\n",
        "            (np.hstack((self.matriz, vertical)), horizontal))\n",
        "\n",
        "    def quitar_nodo(self, nodo):\n",
        "        \"\"\"Quita un nodo de la gráfica y sus conexiones.\"\"\"\n",
        "        self.matriz = np.delete(self.matriz, nodo, axis=0)\n",
        "        self.matriz = np.delete(self.matriz, nodo, axis=1)\n",
        "\n",
        "    def num_nodos(self):\n",
        "        \"\"\"Retorna el número de nodos en la gráfica.\"\"\"\n",
        "        return len(self.matriz)\n",
        "\n",
        "    def num_arcos(self):\n",
        "        \"\"\"Retorna el número de arcos en la gráfica.\"\"\"\n",
        "        return int(self.matriz.sum())"
      ]
    },
    {
      "cell_type": "code",
      "source": [
        "class Red(Grafica):\n",
        "    \"\"\"Representa una red que hereda de la clase Grafica y añade el cálculo\n",
        "    de la matriz de transición.\"\"\"\n",
        "\n",
        "    def __init__(self, nodos, arcos):\n",
        "        super().__init__(nodos, arcos)\n",
        "        self.matriz_transicion = self.calcular_matriz_transicion()\n",
        "\n",
        "    def calcular_matriz_transicion(self):\n",
        "        \"\"\"Calcula la matriz de transición normalizada.\"\"\"\n",
        "        matriz_transicion = np.zeros_like(self.matriz)\n",
        "        for i in range(len(self.matriz)):\n",
        "            if self.matriz[i, :].sum() > 0:\n",
        "                matriz_transicion[i, :] = (\n",
        "                    self.matriz[i, :] / self.matriz[i, :].sum())\n",
        "        return matriz_transicion\n"
      ],
      "metadata": {
        "id": "rwQck67C8aFP"
      },
      "execution_count": null,
      "outputs": []
    },
    {
      "cell_type": "code",
      "source": [
        "class PageRank():\n",
        "    \"\"\"Implementa el algoritmo PageRank para calcular la importancia de las\n",
        "    páginas en una red.\"\"\"\n",
        "\n",
        "    def __init__(self, red, paginas, d=0.85, tol=1e-6):\n",
        "        self.red = red\n",
        "        self.paginas = paginas\n",
        "        self.d = d\n",
        "        self.tol = tol\n",
        "        self.pi = np.ones((1, len(self.red.matriz))) / len(self.red.matriz)\n",
        "\n",
        "    def es_ru(self, pagina):\n",
        "        \"\"\"Verifica si la página termina en '.ru'.\"\"\"\n",
        "        return pagina.endswith('.ru')\n",
        "\n",
        "    def inicializar_pi(self, tipo=\"uniforme\"):\n",
        "        \"\"\"Inicializa el vector pi según el tipo especificado (uniforme o\n",
        "        condicionado por .ru).\"\"\"\n",
        "        if tipo == \"ru\":\n",
        "            s = sum(1 for p in self.paginas if self.es_ru(p))\n",
        "            for k in range(len(self.paginas)):\n",
        "                if self.es_ru(self.paginas[k]):\n",
        "                    self.pi[0, k] = 1 / s\n",
        "                else:\n",
        "                    self.pi[0, k] = 0\n",
        "        elif tipo == \"uniforme\":\n",
        "            self.pi = np.ones((1, len(self.red.matriz))) / len(self.red.matriz)\n",
        "\n",
        "    def ejecutar(self):\n",
        "        \"\"\"Ejecuta el algoritmo iterativo de PageRank hasta la convergencia.\"\"\"\n",
        "        pi_1 = self.pi @ self.red.matriz_transicion\n",
        "        while np.linalg.norm(self.pi - pi_1) > self.tol:\n",
        "            self.pi = pi_1\n",
        "            pi_1 = self.pi @ self.red.matriz_transicion\n",
        "        return self.pi\n",
        "\n",
        "    def calcular_u(self):\n",
        "        \"\"\"Calcula la matriz U con entradas 1/n (distribución uniforme).\"\"\"\n",
        "        n = len(self.red.matriz)\n",
        "        return np.ones((n, n)) / n\n",
        "\n",
        "    def ejecutar_iterativo(self):\n",
        "        \"\"\"Ejecuta la iteración modificada para PageRank con la fórmula dada.\"\"\"\n",
        "        u = self.calcular_u()\n",
        "        pi_1 = self.pi\n",
        "        while True:\n",
        "            pi_2 = pi_1 @ (self.d * self.red.matriz_transicion + (1 - self.d) * u)\n",
        "            if np.linalg.norm(pi_2 - pi_1) < self.tol:\n",
        "                break\n",
        "            pi_1 = pi_2\n",
        "        return pi_2"
      ],
      "metadata": {
        "id": "dvEkxXbB8coZ"
      },
      "execution_count": null,
      "outputs": []
    },
    {
      "cell_type": "code",
      "source": [
        "import pandas as pd\n",
        "from google.colab import drive\n",
        "drive.mount(\"mnt\")\n",
        "\n",
        "def construccion_pd(ruta_nombre_del_archivo):\n",
        "    \"\"\"Construye una red a partir de un archivo Excel con la información de las\n",
        "    páginas y sus enlaces.\"\"\"\n",
        "    df = pd.read_excel(ruta_nombre_del_archivo)\n",
        "    nodos = list(range(len(df[\"Index\"])))\n",
        "    arcos = []\n",
        "    for i, enlaces in enumerate(df[\"Cited by\"]):\n",
        "        for j in enlaces.split(','):\n",
        "            arcos.append((int(j) - 1, i))\n",
        "    paginas = list(df[\"Website\"])\n",
        "    return Red(nodos, arcos), paginas"
      ],
      "metadata": {
        "colab": {
          "base_uri": "https://localhost:8080/"
        },
        "id": "UYDQn0HN8phA",
        "outputId": "eda67890-e369-4c46-cf3c-f53391315399"
      },
      "execution_count": null,
      "outputs": [
        {
          "output_type": "stream",
          "name": "stdout",
          "text": [
            "Mounted at mnt\n"
          ]
        }
      ]
    },
    {
      "cell_type": "code",
      "source": [
        "def respuestas():\n",
        "    ruta_del_archivo_excel = (\n",
        "        \"/content/mnt/MyDrive/Classroom/Programación 9292/Copia de Web.xlsx\"\n",
        "    )\n",
        "\n",
        "    # Paso 1: Construir la red\n",
        "    red, paginas = construccion_pd(ruta_del_archivo_excel)\n",
        "\n",
        "    # Paso 2: Inicializar PageRank con el vector uniforme\n",
        "    page_rank = PageRank(red, paginas)\n",
        "    page_rank.inicializar_pi(tipo=\"uniforme\")\n",
        "\n",
        "    # Ejecutar PageRank con el vector uniforme\n",
        "    resultado = page_rank.ejecutar()\n",
        "\n",
        "    # Página más importante con el vector uniforme\n",
        "    indice_max = np.argmax(resultado)\n",
        "    pagina_importante = paginas[indice_max]\n",
        "    print(f\"Página más importante con vector uniforme: {pagina_importante}\")\n",
        "\n",
        "    # Paso 3: Inicializar el vector pi con la condición de páginas .ru\n",
        "    page_rank.inicializar_pi(tipo=\"ru\")\n",
        "    resultado_ru = page_rank.ejecutar()\n",
        "\n",
        "    # Página más importante con el vector pi basado en .ru\n",
        "    indice_max_ru = np.argmax(resultado_ru)\n",
        "    pagina_importante_ru = paginas[indice_max_ru]\n",
        "    print(f\"Página más importante con vector pi basado en .ru: {pagina_importante_ru}\")\n",
        "\n",
        "\n",
        "if __name__ == \"__main__\":\n",
        "    respuestas()\n"
      ],
      "metadata": {
        "colab": {
          "base_uri": "https://localhost:8080/"
        },
        "id": "Lv8E60jv8xpx",
        "outputId": "6db949c6-2778-4e1b-d4d5-957558195636"
      },
      "execution_count": null,
      "outputs": [
        {
          "output_type": "stream",
          "name": "stdout",
          "text": [
            "Página más importante con vector uniforme: federalreserve.gov\n",
            "Página más importante con vector pi basado en .ru: vedomosti.ru\n"
          ]
        }
      ]
    }
  ]
}